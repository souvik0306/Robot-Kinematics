{
 "cells": [
  {
   "cell_type": "code",
   "execution_count": 129,
   "metadata": {},
   "outputs": [],
   "source": [
    "import numpy as np\n",
    "import math"
   ]
  },
  {
   "cell_type": "markdown",
   "metadata": {},
   "source": [
    "Forward Kinematics of RR Robot"
   ]
  },
  {
   "cell_type": "code",
   "execution_count": 130,
   "metadata": {},
   "outputs": [],
   "source": [
    "def rrfk(theta1,theta2,L1,L2):\n",
    "    x = L1*math.cos(theta1*math.pi/180)+L2*math.cos((theta1+theta2)*math.pi/180)\n",
    "    y = L1*math.sin(theta1*math.pi/180)+L2*math.sin((theta1+theta2)*math.pi/180)\n",
    "    return print('X Co-ordinate: {0:.3f},\\nY Co-ordinate: {1:.3f}'.format(x,y))"
   ]
  },
  {
   "cell_type": "code",
   "execution_count": 131,
   "metadata": {},
   "outputs": [
    {
     "name": "stdout",
     "output_type": "stream",
     "text": [
      "X Co-ordinate: 4.330,\n",
      "Y Co-ordinate: 12.500\n"
     ]
    }
   ],
   "source": [
    "rrfk(30,60,5,10)"
   ]
  },
  {
   "cell_type": "markdown",
   "metadata": {},
   "source": [
    "Inverse Kinematics of RR Robot"
   ]
  },
  {
   "cell_type": "code",
   "execution_count": 132,
   "metadata": {},
   "outputs": [],
   "source": [
    "def rr_ik(x,y,L1,L2):\n",
    "    x = float(x)\n",
    "    y = float(y)\n",
    "    L1 = float(L1)\n",
    "    L2 = float(L2)\n",
    "\n",
    "    theta2 = math.acos(((x**2 + y**2 - L1**2 - L2**2)/(2*L1*L2)))*180/math.pi\n",
    "    theta1 = (math.atan(y/x)*180/math.pi - math.atan((L2*math.sin(theta2*math.pi/180))/(L1+L2*math.cos(theta2*math.pi/180)))*180/math.pi)\n",
    "    \n",
    "    cos_theta2 = math.cos(theta2*math.pi/180)\n",
    "    tan_theta1 = math.tan(theta1*math.pi/180)\n",
    "\n",
    "    return print('Theta2: {0:.3f}, Cos Theta2: {1:.3f},\\nTheta1: {2:.3f}, Tan Theta1: {3:.3f}'.format(theta2,cos_theta2,theta1,tan_theta1))"
   ]
  },
  {
   "cell_type": "code",
   "execution_count": 133,
   "metadata": {},
   "outputs": [
    {
     "name": "stdout",
     "output_type": "stream",
     "text": [
      "Theta2: 60.001, Cos Theta2: 0.500,\n",
      "Theta1: 30.000, Tan Theta1: 0.577\n"
     ]
    }
   ],
   "source": [
    "rr_ik(4.33,12.5,5,10)"
   ]
  },
  {
   "cell_type": "code",
   "execution_count": null,
   "metadata": {},
   "outputs": [],
   "source": []
  }
 ],
 "metadata": {
  "kernelspec": {
   "display_name": "Python 3.9.7 64-bit",
   "language": "python",
   "name": "python3"
  },
  "language_info": {
   "codemirror_mode": {
    "name": "ipython",
    "version": 3
   },
   "file_extension": ".py",
   "mimetype": "text/x-python",
   "name": "python",
   "nbconvert_exporter": "python",
   "pygments_lexer": "ipython3",
   "version": "3.9.7"
  },
  "orig_nbformat": 4,
  "vscode": {
   "interpreter": {
    "hash": "903d28fc8095cdeaee5be616f3ebb92fafee475741240b3f05159e4f3ac8bf72"
   }
  }
 },
 "nbformat": 4,
 "nbformat_minor": 2
}
