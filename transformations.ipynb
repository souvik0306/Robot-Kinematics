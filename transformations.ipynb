{
 "cells": [
  {
   "cell_type": "code",
   "execution_count": 32,
   "metadata": {},
   "outputs": [],
   "source": [
    "import math\n",
    "import numpy as np"
   ]
  },
  {
   "cell_type": "code",
   "execution_count": 33,
   "metadata": {},
   "outputs": [],
   "source": [
    "def vector_to_matrix(i,j,k,scale_factor):\n",
    "    P = np.array([i,j,k,0])\n",
    "    P_scaled = np.array([i,j,k,1])*scale_factor\n",
    "    lambda_factor = math.sqrt(np.sum(np.square(P)))\n",
    "    unit_vector = P/lambda_factor\n",
    "    return print('P Original Vector = {0}\\nP Scaled Vector = {1}\\nLamda Factor = {2}\\nUnity Vector = {3}'.format(P,P_scaled,lambda_factor,unit_vector))"
   ]
  },
  {
   "cell_type": "code",
   "execution_count": 34,
   "metadata": {},
   "outputs": [
    {
     "name": "stdout",
     "output_type": "stream",
     "text": [
      "P Original Vector = [3 5 2 0]\n",
      "P Scaled Vector = [ 6 10  4  2]\n",
      "Lamda Factor = 6.164414002968976\n",
      "Unity Vector = [0.48666426 0.81110711 0.32444284 0.        ]\n"
     ]
    }
   ],
   "source": [
    "vector_to_matrix(3,5,2,2)"
   ]
  },
  {
   "cell_type": "code",
   "execution_count": 35,
   "metadata": {},
   "outputs": [
    {
     "data": {
      "text/plain": [
       "array([[27., 32.],\n",
       "       [47., 56.]])"
      ]
     },
     "execution_count": 35,
     "metadata": {},
     "output_type": "execute_result"
    }
   ],
   "source": [
    "a = np.array([[2,3],[4,5]],dtype=float)\n",
    "b = np.array([[3,4],[7,8]],dtype=float)\n",
    "c = np.matmul(a,b)\n",
    "c"
   ]
  },
  {
   "cell_type": "code",
   "execution_count": 36,
   "metadata": {},
   "outputs": [],
   "source": [
    "def translation(F_old,x,y,z):\n",
    "    Trans = [[1,0,0,x],[0,1,0,y],[0,0,1,z],[0,0,0,1]]\n",
    "    Trans = np.array(Trans,dtype=float)\n",
    "    F_new = np.matmul(Trans,F_old)\n",
    "    return print('Trans =\\n {0}\\n\\nF_new = Trans x F_old\\n {1}\\n'.format(Trans,F_new))"
   ]
  },
  {
   "cell_type": "code",
   "execution_count": 37,
   "metadata": {},
   "outputs": [
    {
     "data": {
      "text/plain": [
       "array([[ 0.527, -0.574,  0.628,  5.   ],\n",
       "       [ 0.369,  0.819,  0.439,  3.   ],\n",
       "       [-0.766,  0.   ,  0.643,  8.   ],\n",
       "       [ 0.   ,  0.   ,  0.   ,  1.   ]])"
      ]
     },
     "execution_count": 37,
     "metadata": {},
     "output_type": "execute_result"
    }
   ],
   "source": [
    "F_old = np.array([[0.527,-0.574,0.628,5],[0.369,0.819,0.439,3],[-0.766,0,0.643,8],[0,0,0,1]],dtype=float)\n",
    "F_old"
   ]
  },
  {
   "cell_type": "code",
   "execution_count": 38,
   "metadata": {},
   "outputs": [
    {
     "name": "stdout",
     "output_type": "stream",
     "text": [
      "Trans =\n",
      " [[1. 0. 0. 9.]\n",
      " [0. 1. 0. 0.]\n",
      " [0. 0. 1. 5.]\n",
      " [0. 0. 0. 1.]]\n",
      "\n",
      "F_new = Trans x F_old\n",
      " [[ 0.527 -0.574  0.628 14.   ]\n",
      " [ 0.369  0.819  0.439  3.   ]\n",
      " [-0.766  0.     0.643 13.   ]\n",
      " [ 0.     0.     0.     1.   ]]\n",
      "\n"
     ]
    }
   ],
   "source": [
    "translation(F_old,9,0,5)"
   ]
  },
  {
   "cell_type": "code",
   "execution_count": 39,
   "metadata": {},
   "outputs": [],
   "source": [
    "def rot_x(theta_x):\n",
    "    Rot_x_theta = np.array([[1,0,0,0],[0,math.cos(theta_x*math.pi/180),-math.sin(theta_x*math.pi/180),0],[0,math.sin(theta_x*math.pi/180),math.cos(theta_x*math.pi/180),0],[0,0,0,1]],dtype=float)\n",
    "    return Rot_x_theta"
   ]
  },
  {
   "cell_type": "code",
   "execution_count": 40,
   "metadata": {},
   "outputs": [],
   "source": [
    "def rot_y(theta_y):\n",
    "    Rot_y_theta = np.array([[math.cos(theta_y*math.pi/180),0,math.sin(theta_y*math.pi/180),0],[0,1,0,0],[-math.sin(theta_y*math.pi/180),0,math.cos(theta_y*math.pi/180),0],[0,0,0,1]],dtype=float)\n",
    "    return Rot_y_theta\n",
    "def rot_z(theta_z):\n",
    "    Rot_z_theta = np.array([[math.cos(theta_z*math.pi/180),-math.sin(theta_z*math.pi/180),0,0],[math.sin(theta_z*math.pi/180),math.cos(theta_z*math.pi/180),0,0],[0,0,1,0],[0,0,0,1]],dtype=float)\n",
    "    return Rot_z_theta"
   ]
  },
  {
   "cell_type": "code",
   "execution_count": 41,
   "metadata": {},
   "outputs": [],
   "source": [
    "def rotation_transformation_z_y(theta_y,theta_z,Tx,Ty,Tz,n,o,a):\n",
    "    \n",
    "    P = np.array([n,o,a,1],dtype=float)\n",
    "\n",
    "    Trans = [[1,0,0,Tx],[0,1,0,Ty],[0,0,1,Tz],[0,0,0,1]]\n",
    "    Trans = np.array(Trans,dtype=float)\n",
    "\n",
    "    Rot_Y = rot_y(theta_y)\n",
    "    Rot_Z = rot_z(theta_z)\n",
    "\n",
    "    R = Rot_Y @ Trans @ Rot_Z @ P\n",
    "    R = np.around(R,4)\n",
    "\n",
    "    return print('Trans =\\n {0}\\n'.format(R))"
   ]
  },
  {
   "cell_type": "code",
   "execution_count": 42,
   "metadata": {},
   "outputs": [
    {
     "name": "stdout",
     "output_type": "stream",
     "text": [
      "Trans =\n",
      " [ 9.  4. -1.  1.]\n",
      "\n"
     ]
    }
   ],
   "source": [
    "rotation_transformation_z_y(90,90,4,-3,7,7,3,2)"
   ]
  },
  {
   "cell_type": "code",
   "execution_count": 43,
   "metadata": {},
   "outputs": [],
   "source": [
    "def rotation_transformation_relative(theta_y,theta_z,Tx,Ty,Tz,n,o,a):\n",
    "    # n,o,a = x,y,z\n",
    "    P = np.array([n,o,a,1],dtype=float)\n",
    "\n",
    "    Trans = [[1,0,0,Tx],[0,1,0,Ty],[0,0,1,Tz],[0,0,0,1]]\n",
    "    Trans = np.array(Trans,dtype=float)\n",
    "\n",
    "    Rot_Y = rot_y(theta_y)\n",
    "    Rot_Z = rot_z(theta_z)\n",
    "\n",
    "    R = Rot_Z @ Trans @ Rot_Y @ P\n",
    "    R = np.around(R,4)\n",
    "    return print('Trans =\\n {0}\\n'.format(R))"
   ]
  },
  {
   "cell_type": "code",
   "execution_count": 44,
   "metadata": {},
   "outputs": [
    {
     "name": "stdout",
     "output_type": "stream",
     "text": [
      "Trans =\n",
      " [0. 6. 0. 1.]\n",
      "\n"
     ]
    }
   ],
   "source": [
    "rotation_transformation_relative(90,90,4,-3,7,7,3,2)"
   ]
  },
  {
   "cell_type": "code",
   "execution_count": null,
   "metadata": {},
   "outputs": [],
   "source": []
  }
 ],
 "metadata": {
  "kernelspec": {
   "display_name": "Python 3.9.7 64-bit",
   "language": "python",
   "name": "python3"
  },
  "language_info": {
   "codemirror_mode": {
    "name": "ipython",
    "version": 3
   },
   "file_extension": ".py",
   "mimetype": "text/x-python",
   "name": "python",
   "nbconvert_exporter": "python",
   "pygments_lexer": "ipython3",
   "version": "3.9.7"
  },
  "orig_nbformat": 4,
  "vscode": {
   "interpreter": {
    "hash": "903d28fc8095cdeaee5be616f3ebb92fafee475741240b3f05159e4f3ac8bf72"
   }
  }
 },
 "nbformat": 4,
 "nbformat_minor": 2
}
