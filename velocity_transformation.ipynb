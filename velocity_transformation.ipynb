{
 "cells": [
  {
   "cell_type": "code",
   "execution_count": 20,
   "metadata": {},
   "outputs": [],
   "source": [
    "import numpy as np\n",
    "import math"
   ]
  },
  {
   "cell_type": "markdown",
   "metadata": {},
   "source": [
    "### Differential Rotation about a General Axis"
   ]
  },
  {
   "cell_type": "code",
   "execution_count": 21,
   "metadata": {},
   "outputs": [],
   "source": [
    "def Rot_Theta(del_x,del_y,del_z):\n",
    "    Rot = np.array([[1,-del_z,del_y,0],[del_z,1,-del_x,0],[-del_y,del_x,1,0],[0,0,0,1]])\n",
    "\n",
    "    return print('Rot =\\n {0}\\n'.format(Rot))"
   ]
  },
  {
   "cell_type": "code",
   "execution_count": 22,
   "metadata": {},
   "outputs": [
    {
     "name": "stdout",
     "output_type": "stream",
     "text": [
      "Rot =\n",
      " [[ 1.    -0.002  0.05   0.   ]\n",
      " [ 0.002  1.    -0.1    0.   ]\n",
      " [-0.05   0.1    1.     0.   ]\n",
      " [ 0.     0.     0.     1.   ]]\n",
      "\n"
     ]
    }
   ],
   "source": [
    "Rot_Theta(0.1,0.05,0.002)"
   ]
  },
  {
   "cell_type": "markdown",
   "metadata": {},
   "source": [
    "### dT = delta x T\n",
    "\n",
    "### delta = [Trans x Rot - I]"
   ]
  },
  {
   "cell_type": "code",
   "execution_count": 23,
   "metadata": {},
   "outputs": [],
   "source": [
    "def delta(dx,dy,dz,del_x,del_y,del_z):\n",
    "    delta = np.array([[0,-del_z,del_y,dx],[del_z,0,-del_x,dy],[-del_y,del_x,0,dz],[0,0,0,0]])\n",
    "    return delta"
   ]
  },
  {
   "cell_type": "code",
   "execution_count": 24,
   "metadata": {},
   "outputs": [
    {
     "data": {
      "text/plain": [
       "array([[ 0.  , -0.06,  0.04,  0.5 ],\n",
       "       [ 0.06,  0.  , -0.02,  0.3 ],\n",
       "       [-0.04,  0.02,  0.  ,  0.1 ],\n",
       "       [ 0.  ,  0.  ,  0.  ,  0.  ]])"
      ]
     },
     "execution_count": 24,
     "metadata": {},
     "output_type": "execute_result"
    }
   ],
   "source": [
    "delta(0.5,0.3,0.1,0.02,0.04,0.06)"
   ]
  },
  {
   "cell_type": "markdown",
   "metadata": {},
   "source": [
    "Find the effect of a differential rotation of 0.1 rad about the y-axis followed by a differential translation of [0.1,0,0.2] on the given frame B\n",
    "\n",
    "B =[\n",
    "    0 0 1 10,\n",
    "    1 0 0 5,\n",
    "    0 1 0 3,\n",
    "    0 0 0 1\n",
    "    ]\n"
   ]
  },
  {
   "cell_type": "code",
   "execution_count": 36,
   "metadata": {},
   "outputs": [],
   "source": [
    "def delta_B(dx,dy,dz,del_x,del_y,del_z,B):\n",
    "    delta_op = delta(dx,dy,dz,del_x,del_y,del_z)\n",
    "    del_B = delta_op @ B\n",
    "    B_new = B + del_B\n",
    "    return print('dB =\\n {0}\\n B_new = \\n{1}'.format(del_B,B_new))"
   ]
  },
  {
   "cell_type": "code",
   "execution_count": 37,
   "metadata": {},
   "outputs": [
    {
     "name": "stdout",
     "output_type": "stream",
     "text": [
      "dB =\n",
      " [[ 0.   0.1  0.   0.4]\n",
      " [ 0.   0.   0.   0. ]\n",
      " [ 0.   0.  -0.1 -0.8]\n",
      " [ 0.   0.   0.   0. ]]\n",
      " B_new = \n",
      "[[ 0.   0.1  1.  10.4]\n",
      " [ 1.   0.   0.   5. ]\n",
      " [ 0.   1.  -0.1  2.2]\n",
      " [ 0.   0.   0.   1. ]]\n"
     ]
    }
   ],
   "source": [
    "B = np.array([[0,0,1,10],[1,0,0,5],[0,1,0,3],[0,0,0,1]],dtype=float)\n",
    "delta_B(0.1,0,0.2,0,0.1,0,B)"
   ]
  },
  {
   "cell_type": "code",
   "execution_count": null,
   "metadata": {},
   "outputs": [],
   "source": []
  }
 ],
 "metadata": {
  "kernelspec": {
   "display_name": "Python 3.9.7 64-bit",
   "language": "python",
   "name": "python3"
  },
  "language_info": {
   "codemirror_mode": {
    "name": "ipython",
    "version": 3
   },
   "file_extension": ".py",
   "mimetype": "text/x-python",
   "name": "python",
   "nbconvert_exporter": "python",
   "pygments_lexer": "ipython3",
   "version": "3.9.7"
  },
  "orig_nbformat": 4,
  "vscode": {
   "interpreter": {
    "hash": "903d28fc8095cdeaee5be616f3ebb92fafee475741240b3f05159e4f3ac8bf72"
   }
  }
 },
 "nbformat": 4,
 "nbformat_minor": 2
}
